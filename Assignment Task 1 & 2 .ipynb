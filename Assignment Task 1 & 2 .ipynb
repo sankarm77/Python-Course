{
 "cells": [
  {
   "cell_type": "code",
   "execution_count": 9,
   "metadata": {},
   "outputs": [
    {
     "name": "stdout",
     "output_type": "stream",
     "text": [
      "first namesankar\n",
      "last namemadhavan\n",
      "madhavan sankar\n"
     ]
    }
   ],
   "source": [
    "x = input('first name')\n",
    "y = input('last name')\n",
    "print(y+str(\" \")+x)"
   ]
  },
  {
   "cell_type": "code",
   "execution_count": 16,
   "metadata": {},
   "outputs": [
    {
     "name": "stdout",
     "output_type": "stream",
     "text": [
      "diameter:12\n",
      "904\n"
     ]
    }
   ],
   "source": [
    "#to find volume of sphere\n",
    "\n",
    "r = input('diameter:')\n",
    "v = float(4/3)*float(3.14)\n",
    "i = int(r)/2\n",
    "b = 3\n",
    "x = int(i)**b\n",
    "y = round(v*x)\n",
    "print(y)"
   ]
  },
  {
   "cell_type": "code",
   "execution_count": 19,
   "metadata": {},
   "outputs": [
    {
     "name": "stdout",
     "output_type": "stream",
     "text": [
      "number to add:1\n",
      "number to add:2\n",
      "['1', '2']\n"
     ]
    }
   ],
   "source": [
    "a = []\n",
    "b = input(\"number to add:\")\n",
    "c = input(\"number to add:\")\n",
    "a.append(b)\n",
    "a.append(c)\n",
    "print(a)"
   ]
  },
  {
   "cell_type": "code",
   "execution_count": 2,
   "metadata": {},
   "outputs": [],
   "source": [
    "l = list(\"ksaslfksjflasj\")"
   ]
  },
  {
   "cell_type": "code",
   "execution_count": 3,
   "metadata": {},
   "outputs": [
    {
     "data": {
      "text/plain": [
       "['k', 's', 'a', 's', 'l', 'f', 'k', 's', 'j', 'f', 'l', 'a', 's', 'j']"
      ]
     },
     "execution_count": 3,
     "metadata": {},
     "output_type": "execute_result"
    }
   ],
   "source": [
    "l"
   ]
  },
  {
   "cell_type": "code",
   "execution_count": 5,
   "metadata": {},
   "outputs": [
    {
     "name": "stdout",
     "output_type": "stream",
     "text": [
      "k\n",
      "s\n",
      "a\n",
      "s\n",
      "l\n",
      "f\n",
      "k\n",
      "s\n",
      "j\n",
      "f\n",
      "l\n",
      "a\n",
      "s\n",
      "j\n"
     ]
    }
   ],
   "source": [
    "for sa in l:\n",
    "    print((sa))"
   ]
  },
  {
   "cell_type": "code",
   "execution_count": 14,
   "metadata": {},
   "outputs": [
    {
     "name": "stdout",
     "output_type": "stream",
     "text": [
      "Enter the word:python\n",
      "nohtyp\n"
     ]
    }
   ],
   "source": [
    " B = input(\"Enter the word:\")[:: -1]\n",
    "print(B)"
   ]
  },
  {
   "cell_type": "code",
   "execution_count": null,
   "metadata": {},
   "outputs": [],
   "source": []
  }
 ],
 "metadata": {
  "kernelspec": {
   "display_name": "Python 3",
   "language": "python",
   "name": "python3"
  },
  "language_info": {
   "codemirror_mode": {
    "name": "ipython",
    "version": 3
   },
   "file_extension": ".py",
   "mimetype": "text/x-python",
   "name": "python",
   "nbconvert_exporter": "python",
   "pygments_lexer": "ipython3",
   "version": "3.7.6"
  }
 },
 "nbformat": 4,
 "nbformat_minor": 4
}
